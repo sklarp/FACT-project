{
 "cells": [
  {
   "cell_type": "code",
   "execution_count": null,
   "metadata": {},
   "outputs": [],
   "source": [
    "from PIL import Image\n",
    "import torch\n",
    "import os\n",
    "import pandas as pd\n",
    "from tqdm import tqdm,trange \n",
    "from torchvision import transforms\n",
    "from transformers import OFATokenizer, OFAModel\n",
    "# from generate import sequence_generator\n",
    "from transformers.models.ofa.generate import sequence_generator\n",
    "# from OFA.fairseq.fairseq import sequence_generator"
   ]
  },
  {
   "cell_type": "code",
   "execution_count": null,
   "metadata": {},
   "outputs": [],
   "source": [
    "def include_captions(path_train_csv):\n",
    "    \n",
    "    # paths\n",
    "    data_dir = '/home/scur1045/FACT-project/HVV_EXPGEN_DATASET/'\n",
    "    ckpt_dir = '/home/scur1045/FACT-project/OFA/OFA-HF-large-model'\n",
    "\n",
    "    # create df out of csv file \n",
    "    df = pd.read_csv(path_train_csv)\n",
    "    df['caption'] = ''\n",
    "    num_imgs = df.shape[0]\n",
    "    \n",
    "    mean, std = [0.5, 0.5, 0.5], [0.5, 0.5, 0.5]\n",
    "    resolution = 480\n",
    "    patch_resize_transform = transforms.Compose([\n",
    "        lambda image: image.convert(\"RGB\"),\n",
    "        transforms.Resize((resolution, resolution), interpolation=Image.BICUBIC),\n",
    "        transforms.ToTensor(), \n",
    "        transforms.Normalize(mean=mean, std=std)\n",
    "    ])\n",
    "\n",
    "    tokenizer = OFATokenizer.from_pretrained(ckpt_dir)\n",
    "    txt = \" what does the image describe?\"\n",
    "    inputs = tokenizer([txt], return_tensors=\"pt\").input_ids\n",
    "\n",
    "    model = OFAModel.from_pretrained(ckpt_dir, use_cache=True)\n",
    "    generator = sequence_generator.SequenceGenerator(\n",
    "                            tokenizer=tokenizer,\n",
    "                            beam_size=5,\n",
    "                            max_len_b=16, \n",
    "                            min_len=0,\n",
    "                            no_repeat_ngram_size=3,)\n",
    "\n",
    "\n",
    "    for i in tqdm(range(num_imgs), total=num_imgs, desc=\"Caption Images\"):  \n",
    "        img_name = df.iloc[i]['image']\n",
    "        path_to_image = data_dir + 'Train_Val_Images/' + img_name\n",
    "\n",
    "        try:\n",
    "            img = Image.open(path_to_image)\n",
    "        except FileNotFoundError:\n",
    "            print(f\"Image {img_name} not found.\")\n",
    "            continue\n",
    "\n",
    "        patch_img = patch_resize_transform(img).unsqueeze(0)\n",
    "\n",
    "        data = {}\n",
    "        data[\"net_input\"] = {\"input_ids\": inputs, 'patch_images': patch_img, 'patch_masks':torch.tensor([True])}\n",
    "        gen_output = generator.generate([model], data)\n",
    "        gen = [gen_output[i][0][\"tokens\"] for i in range(len(gen_output))]\n",
    "        caption = tokenizer.batch_decode(gen, skip_special_tokens=True)[0].strip()\n",
    "        print(caption)\n",
    "\n",
    "        # append the new caption\n",
    "        df.at[i, 'caption'] = caption\n",
    "     \n",
    "    # extract the substring up to the last slash\n",
    "    last_slash_index = path_train_csv.rfind('/') + 1\n",
    "    name_updated_csv_file = path_train_csv[last_slash_index:]\n",
    "\n",
    "    # save new csv file\n",
    "    df.to_csv(data_dir + name_updated_csv_file, index=False)\n",
    "    print(\"Captions added!\")\n"
   ]
  },
  {
   "cell_type": "code",
   "execution_count": null,
   "metadata": {},
   "outputs": [],
   "source": [
    "path_train_csv = '/home/scur1045/FACT-project/HVV_EXPGEN_DATASET/backup_csv/hvvexp_train.csv'\n",
    "path_val_csv = '/home/scur1045/FACT-project/HVV_EXPGEN_DATASET/backup_csv/hvvexp_val.csv'\n",
    "include_captions(path_train_csv)\n",
    "include_captions(path_val_csv)"
   ]
  }
 ],
 "metadata": {
  "kernelspec": {
   "display_name": "FACT",
   "language": "python",
   "name": "python3"
  },
  "language_info": {
   "codemirror_mode": {
    "name": "ipython",
    "version": 3
   },
   "file_extension": ".py",
   "mimetype": "text/x-python",
   "name": "python",
   "nbconvert_exporter": "python",
   "pygments_lexer": "ipython3",
   "version": "3.7.12"
  }
 },
 "nbformat": 4,
 "nbformat_minor": 2
}
